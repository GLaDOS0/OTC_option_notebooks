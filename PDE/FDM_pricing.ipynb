{
 "cells": [
  {
   "cell_type": "code",
   "execution_count": 1,
   "metadata": {},
   "outputs": [
    {
     "name": "stdout",
     "output_type": "stream",
     "text": [
      "6.702488021388638\n"
     ]
    }
   ],
   "source": [
    "\"\"\"\n",
    "香草结构Vanilla的PDE定价基类\n",
    "模型: BS + flat vol\n",
    "定价方法: PDE\n",
    "\"\"\"\n",
    "\n",
    "import numpy as np\n",
    "import scipy.sparse as sp\n",
    "import scipy.interpolate as spi\n",
    "import scipy.linalg as sla\n",
    "\n",
    "TYPE_TO_SIGN = {'call': 1, 'put': -1}\n",
    "\n",
    "\n",
    "class VanillaPDE():\n",
    "    def __init__(self, r, q, vol, T, s0=100, strike=105, type=\"call\"):  # method : \"exp\"/\"imp\"/\"CN\"\n",
    "        self.s0 = s0  # 期初价格\n",
    "        self.strike = strike  # 执行价\n",
    "        self.T = T  # 到期时间(年)\n",
    "        self.r = r  # 无风险利率\n",
    "        self.q = q  # 分红/融券率\n",
    "        self.vol = vol  # 波动率\n",
    "        self.type = type  # 看涨看跌: call/put\n",
    "        self.set_method_params()\n",
    "        # print('成功创建一个香草期权的PDE定价实例')\n",
    "\n",
    "    def set_method_params(self, params=None):\n",
    "        \"\"\"设置方法参数，选填，有默认值\n",
    "        \"\"\"\n",
    "        if not isinstance(params, dict):\n",
    "            return\n",
    "        # 年化系数，默认值244日/年\n",
    "        self.ndays = params['ndays'] if 'ndays' in params.keys() else 244\n",
    "        # 时间步数，默认为年化系数 x 期权到期年数\n",
    "        self.t_step = params['t_step'] if 't_step' in params.keys() else int(self.T * self.ndays)\n",
    "        # 价格步数，默认为200\n",
    "        self.s_step = params['s_step'] if 's_step' in params.keys() else 400\n",
    "        # PDE定价参数：最小标的价格\n",
    "        self.Smin = params['Smin'] if 'Smin' in params.keys() else 0\n",
    "        # PDE定价参数：最大标的价格\n",
    "        self.Smax = params['Smax'] if 'Smax' in params.keys() else self.s0 * 4\n",
    "        # PDE定价数值方法：隐式/Crank-Nicolson\n",
    "        self.method = params['method'] if 'method' in params.keys() else 'CN'\n",
    "\n",
    "    def _load_params(self):\n",
    "        self.sign = TYPE_TO_SIGN[self.type]\n",
    "        self.dS = (self.Smax - self.Smin) / self.s_step\n",
    "        self.dt = self.T / self.t_step\n",
    "        self.S_vec = np.linspace(self.Smin, self.Smax, self.s_step + 1)\n",
    "        self.T_vec = np.linspace(0, self.T, self.t_step + 1)\n",
    "        self.i_vec = np.linspace(0, self.s_step, self.s_step + 1)\n",
    "        self.grid = np.zeros(shape=(self.s_step + 1, self.t_step + 1))\n",
    "        if self.method == 'CN':\n",
    "            self.theta = 0.5\n",
    "        elif self.method == 'imp':\n",
    "            self.theta = 1\n",
    "        elif self.method == \"exp\":\n",
    "            if self.dt >= 1 / (self.vol * self.s_step) ** 2:\n",
    "                print(f\"Warning: dt >= 1/(vol * s_step)^2, 显式求解过程不稳定, 请增大t_step\")\n",
    "            self.theta = 0\n",
    "        else:\n",
    "            raise Exception(f\"{self.method}不是exp(显式),imp(隐式)或CN(半隐式)方法, 请检查.\")\n",
    "\n",
    "    def _set_terminal_condition_(self):\n",
    "        \"\"\"终止条件\"\"\"\n",
    "        self.grid[:, -1] = np.maximum(self.sign * (self.S_vec - self.strike), 0)\n",
    "\n",
    "    def _set_boundary_condition_(self):\n",
    "        \"\"\"边界条件\"\"\"\n",
    "        tau = self.T_vec[-1] - self.T_vec[:-1]\n",
    "        if self.sign == 1:  # call\n",
    "            self.grid[0, :] = 0\n",
    "            self.grid[-1, :-1] = self.Smax * np.exp(-self.q * tau) - self.strike * \\\n",
    "                                 np.exp(-self.r * tau)\n",
    "        else:  # put\n",
    "            self.grid[0, :-1] = self.strike * np.exp(-self.r * self.tau)\n",
    "            self.grid[-1, :] = 0\n",
    "\n",
    "    def _solve_exp_(self):\n",
    "        \"\"\"显式求解\"\"\"\n",
    "        # 递推系数：上一时间的相邻三项，经典PDE定义\n",
    "        a = 0.5 * self.dt * (self.vol ** 2 * self.i_vec - (self.r - self.q)) * self.i_vec\n",
    "        b = 1 - self.dt * (self.vol ** 2 * self.i_vec ** 2 + self.r)\n",
    "        c = 0.5 * self.dt * (self.vol ** 2 * self.i_vec + (self.r - self.q)) * self.i_vec\n",
    "        # 迭代递推，t_step为时间步数，从倒数第二天向第一天反向递推\n",
    "        for j in reversed(np.arange(self.t_step)):\n",
    "            # s_step为价格步数，计算除了最小Smin和最大Smax的其他所有的价格格点\n",
    "            for i in range(1, self.s_step, 1):\n",
    "                self.grid[i, j] = a[i] * self.grid[i - 1, j + 1] + b[i] * self.grid[i, j + 1] + c[i] * self.grid[\n",
    "                    i + 1, j + 1]\n",
    "\n",
    "    def _set_coefficient_(self):\n",
    "        \"\"\"系数矩阵预计算, l、c、u分别是对角线下方lower、主对角线catercorner和对角线上方upper的系数数组\"\"\"\n",
    "        # self.i_vec[1:-1] == self.S_vec[1:-1] / self.dS\n",
    "        drift = (self.r - self.q) * self.i_vec[1:-1]\n",
    "        diffusion_square = (self.vol * self.i_vec[1:-1]) ** 2\n",
    "        # 这里是以半隐式的系数写的，之后在_set_matrix_矩阵里整体乘以dt，再乘以theta=1/2。拆出theta是为了兼容隐式。\n",
    "        self.l = 0.5 * (diffusion_square - drift)\n",
    "        self.c = -diffusion_square - self.r\n",
    "        self.u = 0.5 * (diffusion_square + drift)\n",
    "\n",
    "    def _set_matrix_(self):\n",
    "        \"\"\"生成系数矩阵\"\"\"\n",
    "        # 创建三对角矩阵A，用来构造半隐式矩阵M1，M2\n",
    "        self.A = sp.diags([self.l[1:], self.c, self.u[:-1]], [-1, 0, 1], format='csc') * self.dt\n",
    "        # 单位矩阵I\n",
    "        self.I = sp.eye(self.s_step - 1)\n",
    "        # j 时点的期权价值向量（未知量）的系数矩阵。\n",
    "        self.M1 = self.I - self.theta * self.A\n",
    "        # j + 1 时点的期权价值向量（已知量）的系数矩阵（对于隐式imp，M2是单位阵）\n",
    "        self.M2 = self.I + (1 - self.theta) * self.A\n",
    "\n",
    "\n",
    "    def _solve_imp_or_CN_(self):\n",
    "        \"\"\"隐式或半隐式求解: self.theta = 1 就是隐式方法, self.theta = 0.5 就是半隐式方法\"\"\"\n",
    "        # 对系数矩阵M2做LU分解\n",
    "        _, M_lower, M_upper = sla.lu(self.M1.toarray())\n",
    "        # 将方程拆解为LUx=V, 先求解Ux，再求解x。x是j时点期权价值\n",
    "        for j in reversed(np.arange(self.t_step)):\n",
    "            # V = 矩阵方程右侧，系数M1乘以j + 1 时点的期权价值向量（已知量）\n",
    "            V = self.M2.dot(self.grid[1:-1, j + 1])\n",
    "            # 最上和最下两个方程额外多一项\n",
    "            V[0] += self.theta * self.l[0] * self.dt * self.grid[0, j] \\\n",
    "                    + (1 - self.theta) * self.l[0] * self.dt * self.grid[0, j + 1]\n",
    "            V[-1] += self.theta * self.u[-1] * self.dt * self.grid[-1, j] \\\n",
    "                     + (1 - self.theta) * self.u[-1] * self.dt * self.grid[-1, j + 1]\n",
    "            # 将方程拆解为LUx=V, 先求解Ux\n",
    "            Ux = sla.solve_triangular(M_lower, V, lower=True)\n",
    "            # 再求解Ux=(L^-1)V中的x，x是j时点期权价值\n",
    "            self.grid[1:-1, j] = sla.solve_triangular(M_upper, Ux, lower=False)\n",
    "\n",
    "    def _interpolate_(self):\n",
    "        tck = spi.splrep(self.S_vec, self.grid[:, 0], k=3)\n",
    "        return spi.splev(self.s0, tck)\n",
    "\n",
    "    def pricing(self):\n",
    "        self._load_params()\n",
    "        self._set_terminal_condition_()\n",
    "        self._set_boundary_condition_()\n",
    "        if self.method == \"exp\":\n",
    "            self._solve_exp_()\n",
    "        elif self.method in [\"imp\", \"CN\"]:\n",
    "            self._set_coefficient_()\n",
    "            self._set_matrix_()\n",
    "            self._solve_imp_or_CN_()\n",
    "        else:\n",
    "            raise Exception(f\"{self.method}不是exp(显式),imp(隐式)或CN(半隐式)方法, 请检查.\")\n",
    "        # print(f'香草结构的PDE-{self.method}定价')\n",
    "        return self._interpolate_()\n",
    "\n",
    "\n",
    "def adjust_method_params(model, method):\n",
    "    # 定价方法参数\n",
    "    if method == \"exp\":  # 显式为了求解稳定，t_step需要设的很大\n",
    "        method_params = {'s_step': 200, 't_step': 5000, 'method': method}\n",
    "    else:\n",
    "        method_params = {'s_step': 400, 't_step': int(model.T * 244), 'method': method}\n",
    "    # 设置方法参数\n",
    "    model.set_method_params(method_params)\n",
    "    return vanilla_pde\n",
    "\n",
    "\n",
    "if __name__ == '__main__':\n",
    "    method = \"CN\"  # \"exp\",\"imp\",\"CN\"\n",
    "    # 定价模型实例\n",
    "    vanilla_pde = VanillaPDE(r=0.02, q=0.0, vol=0.2, T=1, s0=100, strike=105, type='call')\n",
    "    adjust_method_params(vanilla_pde, method)\n",
    "    # 定价\n",
    "    print(vanilla_pde.pricing())"
   ]
  },
  {
   "cell_type": "code",
   "execution_count": 2,
   "metadata": {},
   "outputs": [
    {
     "name": "stdout",
     "output_type": "stream",
     "text": [
      "6.704774819436658\n"
     ]
    }
   ],
   "source": [
    "import numpy as np\n",
    "from scipy.stats import norm\n",
    "\n",
    "class BSMmodel:\n",
    "    \"\"\"欧式股票期权BSM公式, 针对现货（股票）期权的定价模型。\n",
    "    Black, Fischer and Myron S. Scholes (1973). The pricing of options and corporate liabilities\n",
    "    Merton, Robert C. (1973). Theory of rational option pricing\n",
    "    \"\"\"\n",
    "\n",
    "    def __init__(self, S, K, T, r, vol, sign=1, q=0):\n",
    "        \"\"\"认购期权的sign为1, 认沽期权的sign为-1.\n",
    "        若股票有稳定的连续分红率q, 请传入参数q。\n",
    "            S是当前标的股票(现货)的价格\n",
    "            K是期权执行价\n",
    "            r是连续复利无风险利率\n",
    "            T是期权到期时间(年)\n",
    "            vol是标的股票(现货)价格的隐含波动率\n",
    "        \"\"\"\n",
    "        self.S, self.K, self.T, self.r, self.vol, self.sign, self.q = S, K, T, r, vol, sign, q\n",
    "        self.d1, self.d2 = self.bsm_d()\n",
    "        # 为了提高计算效率，避免重复计算d1、d2，直接在初始化类时计算好self.d1、self.d2\n",
    "\n",
    "    def bsm_d(self):\n",
    "        \"\"\"欧式股票期权BSM公式的中间变量d1, d2\"\"\"\n",
    "        d1 = (np.log(self.S / self.K) + (self.r - self.q + 0.5 * self.vol ** 2) * self.T) / (\n",
    "                self.vol * np.sqrt(self.T))\n",
    "        d2 = d1 - self.vol * np.sqrt(self.T)\n",
    "        return d1, d2\n",
    "\n",
    "    @property\n",
    "    def option_price(self):\n",
    "        \"\"\"欧式股票期权BSM公式\"\"\"\n",
    "        return self.sign * np.exp(-self.q * self.T) * self.S * norm.cdf(self.sign * self.d1) - self.sign * np.exp(\n",
    "            -self.r * self.T) * self.K * norm.cdf(self.sign * self.d2)\n",
    "    \n",
    "    @property\n",
    "    def delta(self):\n",
    "        \"\"\"欧式股票期权delta, 期权价格对S的一阶导数\"\"\"\n",
    "        delta = self.sign * np.exp(-self.q * self.T) * norm.cdf(self.sign * self.d1)\n",
    "        return delta\n",
    "\n",
    "    @property\n",
    "    def gamma(self):\n",
    "        \"\"\"欧式股票期权vega,看跌看涨gamma计算公式相同, 期权价格对S的二阶导数\"\"\"\n",
    "        gamma = np.exp(-self.q * self.T) * norm.pdf(self.d1) / (self.S * self.vol * np.sqrt(self.T))\n",
    "        return gamma\n",
    "\n",
    "    @property\n",
    "    def theta(self):\n",
    "        \"\"\"欧式股票期权theta, 期权价格对T的一阶导数\"\"\"\n",
    "        theta = (-1 * (np.exp(-self.q * self.T) * self.S * norm.pdf(self.d1) * self.vol) / (2 * np.sqrt(self.T))\n",
    "                 - self.sign * self.r * self.K * np.exp(-self.r * self.T) * norm.cdf(self.sign * self.d2)\n",
    "                 + self.sign * self.q * self.S * np.exp(-self.q * self.T) * norm.cdf(self.sign * self.d1))\n",
    "        return theta\n",
    "\n",
    "    @property\n",
    "    def vega(self):\n",
    "        \"\"\"欧式股票期权vega,看跌看涨vega计算公式相同, 期权价格对vol的一阶导数\"\"\"\n",
    "        return np.exp(-self.q * self.T) * self.S * norm.pdf(self.d1) * np.sqrt(self.T)\n",
    "\n",
    "    @property\n",
    "    def rho(self):\n",
    "        \"\"\"欧式股票期权rho, 期权价格对r的一阶导数\"\"\"\n",
    "        rho = self.sign * self.K * self.T * np.exp(-self.r * self.T) * norm.cdf(self.sign * self.d2)\n",
    "        return rho\n",
    "    \n",
    "if __name__ == \"__main__\":\n",
    "    vanilla_analytic = BSMmodel(S=100, K=105, T=1, r=0.02,vol=0.2, sign=1, q=0)\n",
    "    print(vanilla_analytic.option_price)"
   ]
  },
  {
   "cell_type": "code",
   "execution_count": 3,
   "metadata": {},
   "outputs": [
    {
     "name": "stdout",
     "output_type": "stream",
     "text": [
      "Done\n"
     ]
    }
   ],
   "source": [
    "price_arr = np.arange(80, 120, 5)\n",
    "res = {\"analytic\":[], \"exp\":[], \"imp\":[], \"CN\":[]}\n",
    "\n",
    "for price in price_arr:\n",
    "    vanilla_analytic = BSMmodel(S=price, K=100, T=1, r=0.02,vol=0.2, q=0.01, sign=1)\n",
    "    res[\"analytic\"].append(vanilla_analytic.option_price)\n",
    "    vanilla_pde = VanillaPDE(s0=price, strike=100, T=1, r=0.02, vol=0.2, q=0.01, type='call')\n",
    "    adjust_method_params(vanilla_pde, \"exp\")\n",
    "    res[\"exp\"].append(vanilla_pde.pricing())\n",
    "    adjust_method_params(vanilla_pde, \"imp\")\n",
    "    res[\"imp\"].append(vanilla_pde.pricing())\n",
    "    adjust_method_params(vanilla_pde, \"CN\")\n",
    "    res[\"CN\"].append(vanilla_pde.pricing())\n",
    "\n",
    "print(\"Done\")"
   ]
  },
  {
   "cell_type": "code",
   "execution_count": 4,
   "metadata": {},
   "outputs": [
    {
     "data": {
      "application/vnd.plotly.v1+json": {
       "config": {
        "plotlyServerURL": "https://plot.ly"
       },
       "data": [
        {
         "marker": {
          "color": "#1f77b4",
          "size": 15,
          "symbol": "circle-open"
         },
         "mode": "markers",
         "name": "<b>BS公式",
         "showlegend": true,
         "type": "scatter",
         "x": [
          80,
          85,
          90,
          95,
          100,
          105,
          110,
          115
         ],
         "y": [
          1.2892877810901027,
          2.3244164902560733,
          3.8229825290542863,
          5.829254899890515,
          8.349405767096776,
          11.35569995277902,
          14.796001733931746,
          18.6048962943581
         ]
        },
        {
         "marker": {
          "color": "#ff7f0e",
          "size": 15,
          "symbol": "x-thin-open"
         },
         "mode": "markers",
         "name": "<b>显式exp",
         "showlegend": true,
         "type": "scatter",
         "x": [
          80,
          85,
          90,
          95,
          100,
          105,
          110,
          115
         ],
         "y": [
          1.2902062394031217,
          2.323009929639963,
          3.823131002661041,
          5.82876899794133,
          8.3399088832443,
          11.355988114613947,
          14.797687254324254,
          18.607619171821845
         ]
        },
        {
         "marker": {
          "color": "#2ca02c",
          "size": 15,
          "symbol": "square-open"
         },
         "mode": "markers",
         "name": "<b>隐式imp",
         "showlegend": true,
         "type": "scatter",
         "x": [
          80,
          85,
          90,
          95,
          100,
          105,
          110,
          115
         ],
         "y": [
          1.2893156964618457,
          2.3235430395804864,
          3.8194713386629737,
          5.824995348970022,
          8.34268063209598,
          11.351055405552376,
          14.791308400245075,
          18.60122367018094
         ]
        },
        {
         "marker": {
          "color": "#d62728",
          "size": 15,
          "symbol": "cross-thin-open"
         },
         "mode": "markers",
         "name": "<b>半隐式CN",
         "showlegend": true,
         "type": "scatter",
         "x": [
          80,
          85,
          90,
          95,
          100,
          105,
          110,
          115
         ],
         "y": [
          1.2887295093623772,
          2.3244482529757313,
          3.8219867952571662,
          5.828750362380567,
          8.346986511809877,
          11.355149426562061,
          14.794593213261189,
          18.603365700228593
         ]
        }
       ],
       "layout": {
        "font": {
         "family": "仿宋",
         "size": 20
        },
        "plot_bgcolor": "#e9e7ef",
        "template": {
         "data": {
          "bar": [
           {
            "error_x": {
             "color": "#2a3f5f"
            },
            "error_y": {
             "color": "#2a3f5f"
            },
            "marker": {
             "line": {
              "color": "#E5ECF6",
              "width": 0.5
             },
             "pattern": {
              "fillmode": "overlay",
              "size": 10,
              "solidity": 0.2
             }
            },
            "type": "bar"
           }
          ],
          "barpolar": [
           {
            "marker": {
             "line": {
              "color": "#E5ECF6",
              "width": 0.5
             },
             "pattern": {
              "fillmode": "overlay",
              "size": 10,
              "solidity": 0.2
             }
            },
            "type": "barpolar"
           }
          ],
          "carpet": [
           {
            "aaxis": {
             "endlinecolor": "#2a3f5f",
             "gridcolor": "white",
             "linecolor": "white",
             "minorgridcolor": "white",
             "startlinecolor": "#2a3f5f"
            },
            "baxis": {
             "endlinecolor": "#2a3f5f",
             "gridcolor": "white",
             "linecolor": "white",
             "minorgridcolor": "white",
             "startlinecolor": "#2a3f5f"
            },
            "type": "carpet"
           }
          ],
          "choropleth": [
           {
            "colorbar": {
             "outlinewidth": 0,
             "ticks": ""
            },
            "type": "choropleth"
           }
          ],
          "contour": [
           {
            "colorbar": {
             "outlinewidth": 0,
             "ticks": ""
            },
            "colorscale": [
             [
              0,
              "#0d0887"
             ],
             [
              0.1111111111111111,
              "#46039f"
             ],
             [
              0.2222222222222222,
              "#7201a8"
             ],
             [
              0.3333333333333333,
              "#9c179e"
             ],
             [
              0.4444444444444444,
              "#bd3786"
             ],
             [
              0.5555555555555556,
              "#d8576b"
             ],
             [
              0.6666666666666666,
              "#ed7953"
             ],
             [
              0.7777777777777778,
              "#fb9f3a"
             ],
             [
              0.8888888888888888,
              "#fdca26"
             ],
             [
              1,
              "#f0f921"
             ]
            ],
            "type": "contour"
           }
          ],
          "contourcarpet": [
           {
            "colorbar": {
             "outlinewidth": 0,
             "ticks": ""
            },
            "type": "contourcarpet"
           }
          ],
          "heatmap": [
           {
            "colorbar": {
             "outlinewidth": 0,
             "ticks": ""
            },
            "colorscale": [
             [
              0,
              "#0d0887"
             ],
             [
              0.1111111111111111,
              "#46039f"
             ],
             [
              0.2222222222222222,
              "#7201a8"
             ],
             [
              0.3333333333333333,
              "#9c179e"
             ],
             [
              0.4444444444444444,
              "#bd3786"
             ],
             [
              0.5555555555555556,
              "#d8576b"
             ],
             [
              0.6666666666666666,
              "#ed7953"
             ],
             [
              0.7777777777777778,
              "#fb9f3a"
             ],
             [
              0.8888888888888888,
              "#fdca26"
             ],
             [
              1,
              "#f0f921"
             ]
            ],
            "type": "heatmap"
           }
          ],
          "heatmapgl": [
           {
            "colorbar": {
             "outlinewidth": 0,
             "ticks": ""
            },
            "colorscale": [
             [
              0,
              "#0d0887"
             ],
             [
              0.1111111111111111,
              "#46039f"
             ],
             [
              0.2222222222222222,
              "#7201a8"
             ],
             [
              0.3333333333333333,
              "#9c179e"
             ],
             [
              0.4444444444444444,
              "#bd3786"
             ],
             [
              0.5555555555555556,
              "#d8576b"
             ],
             [
              0.6666666666666666,
              "#ed7953"
             ],
             [
              0.7777777777777778,
              "#fb9f3a"
             ],
             [
              0.8888888888888888,
              "#fdca26"
             ],
             [
              1,
              "#f0f921"
             ]
            ],
            "type": "heatmapgl"
           }
          ],
          "histogram": [
           {
            "marker": {
             "pattern": {
              "fillmode": "overlay",
              "size": 10,
              "solidity": 0.2
             }
            },
            "type": "histogram"
           }
          ],
          "histogram2d": [
           {
            "colorbar": {
             "outlinewidth": 0,
             "ticks": ""
            },
            "colorscale": [
             [
              0,
              "#0d0887"
             ],
             [
              0.1111111111111111,
              "#46039f"
             ],
             [
              0.2222222222222222,
              "#7201a8"
             ],
             [
              0.3333333333333333,
              "#9c179e"
             ],
             [
              0.4444444444444444,
              "#bd3786"
             ],
             [
              0.5555555555555556,
              "#d8576b"
             ],
             [
              0.6666666666666666,
              "#ed7953"
             ],
             [
              0.7777777777777778,
              "#fb9f3a"
             ],
             [
              0.8888888888888888,
              "#fdca26"
             ],
             [
              1,
              "#f0f921"
             ]
            ],
            "type": "histogram2d"
           }
          ],
          "histogram2dcontour": [
           {
            "colorbar": {
             "outlinewidth": 0,
             "ticks": ""
            },
            "colorscale": [
             [
              0,
              "#0d0887"
             ],
             [
              0.1111111111111111,
              "#46039f"
             ],
             [
              0.2222222222222222,
              "#7201a8"
             ],
             [
              0.3333333333333333,
              "#9c179e"
             ],
             [
              0.4444444444444444,
              "#bd3786"
             ],
             [
              0.5555555555555556,
              "#d8576b"
             ],
             [
              0.6666666666666666,
              "#ed7953"
             ],
             [
              0.7777777777777778,
              "#fb9f3a"
             ],
             [
              0.8888888888888888,
              "#fdca26"
             ],
             [
              1,
              "#f0f921"
             ]
            ],
            "type": "histogram2dcontour"
           }
          ],
          "mesh3d": [
           {
            "colorbar": {
             "outlinewidth": 0,
             "ticks": ""
            },
            "type": "mesh3d"
           }
          ],
          "parcoords": [
           {
            "line": {
             "colorbar": {
              "outlinewidth": 0,
              "ticks": ""
             }
            },
            "type": "parcoords"
           }
          ],
          "pie": [
           {
            "automargin": true,
            "type": "pie"
           }
          ],
          "scatter": [
           {
            "fillpattern": {
             "fillmode": "overlay",
             "size": 10,
             "solidity": 0.2
            },
            "type": "scatter"
           }
          ],
          "scatter3d": [
           {
            "line": {
             "colorbar": {
              "outlinewidth": 0,
              "ticks": ""
             }
            },
            "marker": {
             "colorbar": {
              "outlinewidth": 0,
              "ticks": ""
             }
            },
            "type": "scatter3d"
           }
          ],
          "scattercarpet": [
           {
            "marker": {
             "colorbar": {
              "outlinewidth": 0,
              "ticks": ""
             }
            },
            "type": "scattercarpet"
           }
          ],
          "scattergeo": [
           {
            "marker": {
             "colorbar": {
              "outlinewidth": 0,
              "ticks": ""
             }
            },
            "type": "scattergeo"
           }
          ],
          "scattergl": [
           {
            "marker": {
             "colorbar": {
              "outlinewidth": 0,
              "ticks": ""
             }
            },
            "type": "scattergl"
           }
          ],
          "scattermapbox": [
           {
            "marker": {
             "colorbar": {
              "outlinewidth": 0,
              "ticks": ""
             }
            },
            "type": "scattermapbox"
           }
          ],
          "scatterpolar": [
           {
            "marker": {
             "colorbar": {
              "outlinewidth": 0,
              "ticks": ""
             }
            },
            "type": "scatterpolar"
           }
          ],
          "scatterpolargl": [
           {
            "marker": {
             "colorbar": {
              "outlinewidth": 0,
              "ticks": ""
             }
            },
            "type": "scatterpolargl"
           }
          ],
          "scatterternary": [
           {
            "marker": {
             "colorbar": {
              "outlinewidth": 0,
              "ticks": ""
             }
            },
            "type": "scatterternary"
           }
          ],
          "surface": [
           {
            "colorbar": {
             "outlinewidth": 0,
             "ticks": ""
            },
            "colorscale": [
             [
              0,
              "#0d0887"
             ],
             [
              0.1111111111111111,
              "#46039f"
             ],
             [
              0.2222222222222222,
              "#7201a8"
             ],
             [
              0.3333333333333333,
              "#9c179e"
             ],
             [
              0.4444444444444444,
              "#bd3786"
             ],
             [
              0.5555555555555556,
              "#d8576b"
             ],
             [
              0.6666666666666666,
              "#ed7953"
             ],
             [
              0.7777777777777778,
              "#fb9f3a"
             ],
             [
              0.8888888888888888,
              "#fdca26"
             ],
             [
              1,
              "#f0f921"
             ]
            ],
            "type": "surface"
           }
          ],
          "table": [
           {
            "cells": {
             "fill": {
              "color": "#EBF0F8"
             },
             "line": {
              "color": "white"
             }
            },
            "header": {
             "fill": {
              "color": "#C8D4E3"
             },
             "line": {
              "color": "white"
             }
            },
            "type": "table"
           }
          ]
         },
         "layout": {
          "annotationdefaults": {
           "arrowcolor": "#2a3f5f",
           "arrowhead": 0,
           "arrowwidth": 1
          },
          "autotypenumbers": "strict",
          "coloraxis": {
           "colorbar": {
            "outlinewidth": 0,
            "ticks": ""
           }
          },
          "colorscale": {
           "diverging": [
            [
             0,
             "#8e0152"
            ],
            [
             0.1,
             "#c51b7d"
            ],
            [
             0.2,
             "#de77ae"
            ],
            [
             0.3,
             "#f1b6da"
            ],
            [
             0.4,
             "#fde0ef"
            ],
            [
             0.5,
             "#f7f7f7"
            ],
            [
             0.6,
             "#e6f5d0"
            ],
            [
             0.7,
             "#b8e186"
            ],
            [
             0.8,
             "#7fbc41"
            ],
            [
             0.9,
             "#4d9221"
            ],
            [
             1,
             "#276419"
            ]
           ],
           "sequential": [
            [
             0,
             "#0d0887"
            ],
            [
             0.1111111111111111,
             "#46039f"
            ],
            [
             0.2222222222222222,
             "#7201a8"
            ],
            [
             0.3333333333333333,
             "#9c179e"
            ],
            [
             0.4444444444444444,
             "#bd3786"
            ],
            [
             0.5555555555555556,
             "#d8576b"
            ],
            [
             0.6666666666666666,
             "#ed7953"
            ],
            [
             0.7777777777777778,
             "#fb9f3a"
            ],
            [
             0.8888888888888888,
             "#fdca26"
            ],
            [
             1,
             "#f0f921"
            ]
           ],
           "sequentialminus": [
            [
             0,
             "#0d0887"
            ],
            [
             0.1111111111111111,
             "#46039f"
            ],
            [
             0.2222222222222222,
             "#7201a8"
            ],
            [
             0.3333333333333333,
             "#9c179e"
            ],
            [
             0.4444444444444444,
             "#bd3786"
            ],
            [
             0.5555555555555556,
             "#d8576b"
            ],
            [
             0.6666666666666666,
             "#ed7953"
            ],
            [
             0.7777777777777778,
             "#fb9f3a"
            ],
            [
             0.8888888888888888,
             "#fdca26"
            ],
            [
             1,
             "#f0f921"
            ]
           ]
          },
          "colorway": [
           "#636efa",
           "#EF553B",
           "#00cc96",
           "#ab63fa",
           "#FFA15A",
           "#19d3f3",
           "#FF6692",
           "#B6E880",
           "#FF97FF",
           "#FECB52"
          ],
          "font": {
           "color": "#2a3f5f"
          },
          "geo": {
           "bgcolor": "white",
           "lakecolor": "white",
           "landcolor": "#E5ECF6",
           "showlakes": true,
           "showland": true,
           "subunitcolor": "white"
          },
          "hoverlabel": {
           "align": "left"
          },
          "hovermode": "closest",
          "mapbox": {
           "style": "light"
          },
          "paper_bgcolor": "white",
          "plot_bgcolor": "#E5ECF6",
          "polar": {
           "angularaxis": {
            "gridcolor": "white",
            "linecolor": "white",
            "ticks": ""
           },
           "bgcolor": "#E5ECF6",
           "radialaxis": {
            "gridcolor": "white",
            "linecolor": "white",
            "ticks": ""
           }
          },
          "scene": {
           "xaxis": {
            "backgroundcolor": "#E5ECF6",
            "gridcolor": "white",
            "gridwidth": 2,
            "linecolor": "white",
            "showbackground": true,
            "ticks": "",
            "zerolinecolor": "white"
           },
           "yaxis": {
            "backgroundcolor": "#E5ECF6",
            "gridcolor": "white",
            "gridwidth": 2,
            "linecolor": "white",
            "showbackground": true,
            "ticks": "",
            "zerolinecolor": "white"
           },
           "zaxis": {
            "backgroundcolor": "#E5ECF6",
            "gridcolor": "white",
            "gridwidth": 2,
            "linecolor": "white",
            "showbackground": true,
            "ticks": "",
            "zerolinecolor": "white"
           }
          },
          "shapedefaults": {
           "line": {
            "color": "#2a3f5f"
           }
          },
          "ternary": {
           "aaxis": {
            "gridcolor": "white",
            "linecolor": "white",
            "ticks": ""
           },
           "baxis": {
            "gridcolor": "white",
            "linecolor": "white",
            "ticks": ""
           },
           "bgcolor": "#E5ECF6",
           "caxis": {
            "gridcolor": "white",
            "linecolor": "white",
            "ticks": ""
           }
          },
          "title": {
           "x": 0.05
          },
          "xaxis": {
           "automargin": true,
           "gridcolor": "white",
           "linecolor": "white",
           "ticks": "",
           "title": {
            "standoff": 15
           },
           "zerolinecolor": "white",
           "zerolinewidth": 2
          },
          "yaxis": {
           "automargin": true,
           "gridcolor": "white",
           "linecolor": "white",
           "ticks": "",
           "title": {
            "standoff": 15
           },
           "zerolinecolor": "white",
           "zerolinewidth": 2
          }
         }
        },
        "title": {
         "text": "<b>PDE与BS公式香草定价对比"
        },
        "xaxis": {
         "title": {
          "text": "<b>标的价格"
         }
        },
        "yaxis": {
         "title": {
          "text": "<b>期权价格"
         }
        }
       }
      }
     },
     "metadata": {},
     "output_type": "display_data"
    }
   ],
   "source": [
    "import plotly.graph_objects as go\n",
    "\n",
    "fig = go.Figure()\n",
    "marker_size = 15\n",
    "fig.add_trace(go.Scatter(x=price_arr, y=res[\"analytic\"], mode='markers', marker=dict(color=\"#1f77b4\", symbol=\"circle-open\", size=marker_size), name=\"<b>BS公式\", showlegend=True)) \n",
    "fig.add_trace(go.Scatter(x=price_arr, y=res[\"exp\"], mode='markers', marker=dict(color=\"#ff7f0e\", symbol=\"x-thin-open\", size=marker_size), name=\"<b>显式exp\", showlegend=True)) \n",
    "fig.add_trace(go.Scatter(x=price_arr, y=res[\"imp\"], mode='markers', marker=dict(color=\"#2ca02c\", symbol=\"square-open\", size=marker_size), name=\"<b>隐式imp\", showlegend=True)) \n",
    "fig.add_trace(go.Scatter(x=price_arr, y=res[\"CN\"], mode='markers', marker=dict(color=\"#d62728\", symbol=\"cross-thin-open\", size=marker_size), name=\"<b>半隐式CN\", showlegend=True)) \n",
    "fig.layout.font.family = '仿宋'\n",
    "fig.update_layout(title='<b>PDE与BS公式香草定价对比', xaxis_title='<b>标的价格', yaxis_title='<b>期权价格', plot_bgcolor='#e9e7ef', font=dict(size=20))\n",
    "fig.show()"
   ]
  }
 ],
 "metadata": {
  "kernelspec": {
   "display_name": "Python 3",
   "language": "python",
   "name": "python3"
  },
  "language_info": {
   "codemirror_mode": {
    "name": "ipython",
    "version": 3
   },
   "file_extension": ".py",
   "mimetype": "text/x-python",
   "name": "python",
   "nbconvert_exporter": "python",
   "pygments_lexer": "ipython3",
   "version": "3.10.9"
  }
 },
 "nbformat": 4,
 "nbformat_minor": 2
}
